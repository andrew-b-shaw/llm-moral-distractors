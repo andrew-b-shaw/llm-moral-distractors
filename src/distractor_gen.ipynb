{
 "cells": [
  {
   "cell_type": "code",
   "execution_count": 14,
   "id": "fc8f885a",
   "metadata": {
    "ExecuteTime": {
     "end_time": "2025-05-21T20:56:54.431492Z",
     "start_time": "2025-05-21T20:56:54.420175900Z"
    }
   },
   "outputs": [],
   "source": [
    "import pandas as pd\n",
    "import numpy as np\n",
    "\n",
    "def build_distractor_dataset(\n",
    "    num_samples, \n",
    "    num_pos, num_neg, num_control,\n",
    "    experiment_name='NEW_moralchoice',\n",
    "    distractor_filepath='distractors.csv',\n",
    "):\n",
    "    hi_curr_scenarios = pd.read_csv(\"../data/scenarios/moralchoice_high_ambiguity.csv\")\n",
    "    lo_curr_scenarios = pd.read_csv(\"../data/scenarios/moralchoice_low_ambiguity.csv\")\n",
    "\n",
    "    distractors = pd.read_csv(\"../data/scenarios/\" + distractor_filepath)\n",
    "    ctrl_distractors = pd.read_csv(\"../data/scenarios/stopword_distractors.csv\")\n",
    "\n",
    "    hi_original_data = hi_curr_scenarios[:int(num_samples)]\n",
    "    lo_original_data = lo_curr_scenarios[:int(num_samples)]\n",
    "\n",
    "    pos_distractors = distractors[distractors.pleasant == 'Yes'][:num_pos].distractor.values\n",
    "    neg_distractors = distractors[distractors.pleasant == 'No'][:num_neg].distractor.values\n",
    "    stop_distractors = ctrl_distractors[:num_control].distractor.values\n",
    "\n",
    "    distractors_full = np.array([''] + list(pos_distractors) + list(neg_distractors) + list(stop_distractors))\n",
    "    types_full = ['base'] + ['pos'] * len(pos_distractors) + ['neg'] * len(neg_distractors) + ['stop'] * len(stop_distractors)\n",
    "    n_per_row = len(distractors_full)\n",
    "\n",
    "    lo_repeated = lo_original_data.loc[lo_original_data.index.repeat(n_per_row)].reset_index(drop=True)\n",
    "    hi_repeated = hi_original_data.loc[hi_original_data.index.repeat(n_per_row)].reset_index(drop=True)\n",
    "\n",
    "    n_rows = len(lo_original_data)\n",
    "    distractors_column = np.tile(distractors_full, n_rows)\n",
    "    types_column = np.tile(types_full, n_rows)\n",
    "\n",
    "    lo_repeated['context'] = np.where(\n",
    "        pd.isna(distractors_column),\n",
    "        lo_repeated['context'],\n",
    "        lo_repeated['context'] + ' ' + distractors_column\n",
    "    )\n",
    "    hi_repeated['context'] = np.where(\n",
    "        pd.isna(distractors_column),\n",
    "        hi_repeated['context'],\n",
    "        hi_repeated['context'] + ' ' + distractors_column\n",
    "    )\n",
    "\n",
    "    lo_repeated['type'] = types_column\n",
    "    hi_repeated['type'] = types_column\n",
    "\n",
    "    def expand_scenario_ids(original_df):\n",
    "        scenario_ids = []\n",
    "        distractor_ids = []\n",
    "        for sid in original_df['scenario_id']:\n",
    "            scenario_ids.extend([sid] * 16)\n",
    "            distractor_ids.extend([\"base\",\n",
    "                                   \"pos_1\",\n",
    "                                   \"pos_2\",\n",
    "                                   \"pos_3\",\n",
    "                                   \"pos_4\",\n",
    "                                   \"pos_5\",\n",
    "                                   \"neg_1\",\n",
    "                                   \"neg_2\",\n",
    "                                   \"neg_3\",\n",
    "                                   \"neg_4\",\n",
    "                                   \"neg_5\",\n",
    "                                   \"stop_1\",\n",
    "                                   \"stop_2\",\n",
    "                                   \"stop_3\",\n",
    "                                   \"stop_4\",\n",
    "                                   \"stop_5\"])\n",
    "        print(len(distractor_ids))\n",
    "        return scenario_ids, distractor_ids\n",
    "\n",
    "    #print(len(lo_repeated))\n",
    "    lo_repeated['scenario_id'], lo_repeated['distractor_id'] = expand_scenario_ids(lo_original_data)\n",
    "    hi_repeated['scenario_id'], hi_repeated['distractor_id'] = expand_scenario_ids(hi_original_data)\n",
    "\n",
    "    lo_new_data = lo_repeated\n",
    "    hi_new_data = hi_repeated\n",
    "\n",
    "    lo_new_data.to_csv(f'../data/scenarios/{experiment_name}_low_ambiguity.csv', index=False)\n",
    "    hi_new_data.to_csv(f'../data/scenarios/{experiment_name}_high_ambiguity.csv', index=False)\n",
    "\n",
    "    return lo_new_data, hi_new_data\n"
   ]
  },
  {
   "cell_type": "code",
   "execution_count": 16,
   "id": "059b68d9",
   "metadata": {
    "ExecuteTime": {
     "end_time": "2025-05-21T20:57:01.088457300Z",
     "start_time": "2025-05-21T20:57:00.952397500Z"
    }
   },
   "outputs": [
    {
     "name": "stdout",
     "output_type": "stream",
     "text": [
      "1600\n",
      "1600\n"
     ]
    }
   ],
   "source": [
    "lo_new_data, hi_new_data = build_distractor_dataset(\n",
    "    num_samples = 100, \n",
    "    num_pos = 5, num_neg = 5, num_control=5,\n",
    "    experiment_name = '5each_',\n",
    "    distractor_filepath = 'distractors_no_loc.csv',\n",
    "    )"
   ]
  },
  {
   "cell_type": "markdown",
   "id": "b328eb9e",
   "metadata": {},
   "source": [
    "# Add distractors"
   ]
  },
  {
   "cell_type": "code",
   "execution_count": null,
   "id": "cd3e23e8",
   "metadata": {
    "ExecuteTime": {
     "start_time": "2025-05-21T20:53:44.461660200Z"
    }
   },
   "outputs": [],
   "source": [
    "import pandas as pd\n",
    "import numpy as np\n",
    "\n",
    "hi_curr_scenarios = pd.read_csv(\"../data/scenarios/moralchoice_high_ambiguity.csv\")\n",
    "lo_curr_scenarios = pd.read_csv(\"../data/scenarios/moralchoice_low_ambiguity.csv\")"
   ]
  },
  {
   "cell_type": "code",
   "execution_count": null,
   "id": "5706e9a5",
   "metadata": {
    "ExecuteTime": {
     "start_time": "2025-05-21T20:53:44.461660200Z"
    }
   },
   "outputs": [],
   "source": [
    "print(len(hi_curr_scenarios))\n",
    "print(len(lo_curr_scenarios))"
   ]
  },
  {
   "cell_type": "code",
   "execution_count": null,
   "id": "18610d26",
   "metadata": {
    "ExecuteTime": {
     "start_time": "2025-05-21T20:53:44.465210200Z"
    }
   },
   "outputs": [],
   "source": [
    "hi_curr_scenarios.columns"
   ]
  },
  {
   "cell_type": "code",
   "execution_count": null,
   "id": "a22a3cf6",
   "metadata": {
    "ExecuteTime": {
     "start_time": "2025-05-21T20:53:44.466865600Z"
    }
   },
   "outputs": [],
   "source": [
    "distractors = pd.read_csv('../data/scenarios/distractors.csv')\n",
    "distractors"
   ]
  },
  {
   "cell_type": "code",
   "execution_count": null,
   "id": "a6090130",
   "metadata": {
    "ExecuteTime": {
     "start_time": "2025-05-21T20:53:44.468894100Z"
    }
   },
   "outputs": [],
   "source": [
    "NUM_SAMPLES = 10\n",
    "NUM_POS = 1\n",
    "NUM_NEG = 1\n",
    "\n",
    "hi_original_data = hi_curr_scenarios[:int(NUM_SAMPLES/2)]\n",
    "lo_original_data = lo_curr_scenarios[:int(NUM_SAMPLES/2)]\n",
    "\n",
    "pos_distractors = distractors[distractors.pleasant=='Yes'][:NUM_POS].distractor.values\n",
    "neg_distractors = distractors[distractors.pleasant=='No'][:NUM_NEG].distractor.values\n",
    "\n",
    "print(len(pos_distractors), len(neg_distractors))\n",
    "\n",
    "distractors_full = np.array([''] + list(pos_distractors) + list(neg_distractors))\n",
    "types_full = ['neutral'] + ['pos'] * len(pos_distractors) + ['neg'] * len(neg_distractors)"
   ]
  },
  {
   "cell_type": "code",
   "execution_count": null,
   "id": "3fd96860",
   "metadata": {
    "ExecuteTime": {
     "start_time": "2025-05-21T20:53:44.471387700Z"
    }
   },
   "outputs": [],
   "source": [
    "len(distractors_full) == len(types_full)"
   ]
  },
  {
   "cell_type": "code",
   "execution_count": null,
   "id": "446f71cf",
   "metadata": {
    "ExecuteTime": {
     "start_time": "2025-05-21T20:53:44.472814800Z"
    }
   },
   "outputs": [],
   "source": [
    "n_per_row = len(distractors_full)\n",
    "\n",
    "# repeat rows\n",
    "lo_repeated = lo_original_data.loc[lo_original_data.index.repeat(n_per_row)].reset_index(drop=True)\n",
    "hi_repeated = hi_original_data.loc[hi_original_data.index.repeat(n_per_row)].reset_index(drop=True)\n",
    "\n",
    "# tile the distractors and types for the total number of original rows\n",
    "n_rows = len(lo_original_data)\n",
    "distractors_column = np.tile(distractors_full, n_rows)\n",
    "types_column = np.tile(types_full, n_rows)\n",
    "\n",
    "# modify 'context' field\n",
    "lo_repeated['context'] = np.where(\n",
    "    pd.isna(distractors_column),\n",
    "    lo_repeated['context'],\n",
    "    distractors_column + ' ' + lo_repeated['context']\n",
    ")\n",
    "hi_repeated['context'] = np.where(\n",
    "    pd.isna(distractors_column),\n",
    "    hi_repeated['context'],\n",
    "    distractors_column + ' ' + hi_repeated['context']\n",
    ")\n",
    "\n",
    "# add the 'type' column\n",
    "lo_repeated['type'] = types_column\n",
    "hi_repeated['type'] = types_column\n",
    "\n",
    "lo_new_data = lo_repeated\n",
    "hi_new_data = hi_repeated"
   ]
  },
  {
   "cell_type": "code",
   "execution_count": null,
   "id": "2461d4c1",
   "metadata": {
    "ExecuteTime": {
     "start_time": "2025-05-21T20:53:44.472814800Z"
    }
   },
   "outputs": [],
   "source": [
    "print(len(lo_original_data), len(lo_original_data))\n",
    "print(len(lo_new_data), len(hi_new_data))"
   ]
  },
  {
   "cell_type": "code",
   "execution_count": null,
   "id": "4c4c0ab1",
   "metadata": {
    "ExecuteTime": {
     "start_time": "2025-05-21T20:53:44.476834800Z"
    }
   },
   "outputs": [],
   "source": [
    "lo_new_data.to_csv('../data/scenarios/NEW_moralchoice_low_ambiguity.csv', index=False)\n",
    "hi_new_data.to_csv('../data/scenarios/NEW_moralchoice_high_ambiguity.csv', index=False)"
   ]
  },
  {
   "cell_type": "markdown",
   "id": "2f53cc64",
   "metadata": {},
   "source": [
    "# Generate stopwords-based distractors"
   ]
  },
  {
   "cell_type": "code",
   "execution_count": null,
   "id": "ce0cd3cf",
   "metadata": {
    "ExecuteTime": {
     "start_time": "2025-05-21T20:53:44.478590Z"
    }
   },
   "outputs": [],
   "source": [
    "import pandas as pd\n",
    "\n",
    "distractors_context = pd.read_csv('/homes/iws/catraz/llm_moral_plasticity/data/scenarios/distractors_no_loc.csv')\n",
    "distractors_context.head()"
   ]
  },
  {
   "cell_type": "code",
   "execution_count": null,
   "id": "de641a9a",
   "metadata": {
    "ExecuteTime": {
     "start_time": "2025-05-21T20:53:44.478590Z"
    }
   },
   "outputs": [],
   "source": [
    "import matplotlib.pyplot as plt\n",
    "\n",
    "char_lengths = distractors_context['distractor'].astype(str).apply(len)\n",
    "\n",
    "plt.boxplot(char_lengths, vert=False)\n",
    "plt.title('Histogram of Distractor Character Lengths')\n",
    "plt.xlabel('char length')\n",
    "plt.ylabel('count')\n",
    "plt.show()\n"
   ]
  },
  {
   "cell_type": "code",
   "execution_count": null,
   "id": "f869c1e9",
   "metadata": {
    "ExecuteTime": {
     "start_time": "2025-05-21T20:53:44.478590Z"
    }
   },
   "outputs": [],
   "source": [
    "import random\n",
    "import nltk\n",
    "from nltk.corpus import stopwords\n",
    "\n",
    "nltk.download('stopwords')\n",
    "stop_words = stopwords.words('english')\n",
    "\n",
    "char_lengths = distractors_context['distractor'].astype(str).apply(len)\n",
    "\n",
    "def generate_stopword_string(max_length):\n",
    "    result = []\n",
    "    total_len = 0\n",
    "\n",
    "    while True:\n",
    "        word = random.choice(stop_words)\n",
    "        word_len = len(word) + (1 if result else 0)\n",
    "\n",
    "        if total_len + word_len > max_length:\n",
    "            break\n",
    "\n",
    "        result.append(word)\n",
    "        total_len += word_len\n",
    "\n",
    "    return ' '.join(result)\n",
    "\n",
    "new_distractors = [generate_stopword_string(length) for length in char_lengths]\n",
    "stopword_df = pd.DataFrame({'distractor': new_distractors})"
   ]
  },
  {
   "cell_type": "code",
   "execution_count": null,
   "id": "11e71eaa",
   "metadata": {
    "ExecuteTime": {
     "start_time": "2025-05-21T20:53:44.478590Z"
    }
   },
   "outputs": [],
   "source": [
    "stopword_df.head()"
   ]
  },
  {
   "cell_type": "code",
   "execution_count": null,
   "id": "5cc3f5be",
   "metadata": {
    "ExecuteTime": {
     "start_time": "2025-05-21T20:53:44.486396900Z"
    }
   },
   "outputs": [],
   "source": [
    "stopword_df.to_csv(f'../data/scenarios/stopword_distractors.csv', index=False)"
   ]
  },
  {
   "cell_type": "markdown",
   "id": "2e7a87a4",
   "metadata": {},
   "source": [
    "# Fun EDA"
   ]
  },
  {
   "cell_type": "code",
   "execution_count": null,
   "id": "37b6e2c5",
   "metadata": {
    "ExecuteTime": {
     "start_time": "2025-05-21T20:53:44.487466500Z"
    }
   },
   "outputs": [],
   "source": [
    "from wordcloud import WordCloud, STOPWORDS\n",
    "import matplotlib.pyplot as plt\n",
    "\n",
    "pos_text = \" \".join(distractors[distractors.pleasant == 'Yes']['distractor'].values)\n",
    "\n",
    "wordcloud = WordCloud(\n",
    "    width=800,\n",
    "    height=400,\n",
    "    background_color='white',\n",
    "    stopwords=STOPWORDS,\n",
    "    colormap='Reds'\n",
    ").generate(pos_text)\n",
    "\n",
    "plt.figure(figsize=(10, 5))\n",
    "plt.imshow(wordcloud, interpolation='bilinear')\n",
    "plt.axis('off')\n",
    "plt.title('pos distractors', fontsize=20)\n",
    "plt.show()\n"
   ]
  },
  {
   "cell_type": "code",
   "execution_count": null,
   "id": "a89cd6d3",
   "metadata": {
    "ExecuteTime": {
     "start_time": "2025-05-21T20:53:44.488959400Z"
    }
   },
   "outputs": [],
   "source": [
    "pos_text = \" \".join(distractors[distractors.pleasant == 'No']['distractor'].values)\n",
    "\n",
    "wordcloud = WordCloud(\n",
    "    width=800,\n",
    "    height=400,\n",
    "    background_color='white',\n",
    "    stopwords=STOPWORDS,\n",
    "    colormap='Blues'\n",
    ").generate(pos_text)\n",
    "\n",
    "plt.figure(figsize=(10, 5))\n",
    "plt.imshow(wordcloud, interpolation='bilinear')\n",
    "plt.axis('off')\n",
    "plt.title('neg distractors', fontsize=20)\n",
    "plt.show()\n"
   ]
  },
  {
   "cell_type": "markdown",
   "id": "9089df99",
   "metadata": {},
   "source": [
    "# Results"
   ]
  },
  {
   "cell_type": "code",
   "execution_count": null,
   "id": "f2c50dc0",
   "metadata": {
    "ExecuteTime": {
     "start_time": "2025-05-21T20:53:44.492032800Z"
    }
   },
   "outputs": [],
   "source": [
    "import pandas as pd\n",
    "\n",
    "file = \"/homes/iws/catraz/llm_moral_plasticity/data/responses/yay_moraltest/NEW_moralchoice_high_ambiguity/google_flan-t5-small.csv\"\n",
    "file = \"/homes/iws/catraz/llm_moral_plasticity/data/responses/moraltest_2/NEW_moralchoice_high_ambiguity/google_flan-t5-small.csv\"\n",
    "#file = \"/homes/iws/catraz/llm_moral_plasticity/data/responses/moraltest_low/NEW_moralchoice_low_ambiguity/google_flan-t5-small.csv\"\n",
    "# file = \"/homes/iws/catraz/llm_moral_plasticity/data/responses/moraltest_stop/NEW_moralchoice1_high_ambiguity/google_flan-t5-small.csv\"\n",
    "file = \"/homes/iws/catraz/llm_moral_plasticity/data/responses/moraltest_stop_yay/NEW_moralchoice1_low_ambiguity/google_flan-t5-small.csv\"\n",
    "\n",
    "df = pd.read_csv(file)\n",
    "df.head()"
   ]
  },
  {
   "cell_type": "code",
   "execution_count": null,
   "id": "10dd7b1f",
   "metadata": {
    "ExecuteTime": {
     "start_time": "2025-05-21T20:53:44.492032800Z"
    }
   },
   "outputs": [],
   "source": [
    "df.answer_raw.value_counts()"
   ]
  },
  {
   "cell_type": "code",
   "execution_count": null,
   "id": "bd4e15be",
   "metadata": {
    "ExecuteTime": {
     "start_time": "2025-05-21T20:53:44.492032800Z"
    }
   },
   "outputs": [],
   "source": [
    "df.decision.value_counts()"
   ]
  },
  {
   "cell_type": "code",
   "execution_count": null,
   "id": "0802e4c8",
   "metadata": {
    "ExecuteTime": {
     "start_time": "2025-05-21T20:53:44.492032800Z"
    }
   },
   "outputs": [],
   "source": [
    "import matplotlib.pyplot as plt\n",
    "\n",
    "# Count decisions\n",
    "counts = df['decision'].value_counts()\n",
    "\n",
    "# Plot pie chart\n",
    "plt.figure(figsize=(6, 6))\n",
    "plt.pie(counts, labels=counts.index, autopct='%1.1f%%', startangle=90)\n",
    "# plt.title('Decision Distribution')\n",
    "plt.axis('equal')  # Equal aspect ratio ensures the pie is circular.\n",
    "\n",
    "plt.show()\n"
   ]
  },
  {
   "cell_type": "code",
   "execution_count": null,
   "id": "43d54e6a",
   "metadata": {
    "ExecuteTime": {
     "start_time": "2025-05-21T20:53:44.492032800Z"
    }
   },
   "outputs": [],
   "source": [
    "import matplotlib.pyplot as plt\n",
    "\n",
    "# Count decisions\n",
    "counts = df['decision'].value_counts()\n",
    "\n",
    "# Plot pie chart\n",
    "plt.figure(figsize=(6, 6))\n",
    "plt.pie(counts, labels=counts.index, autopct='%1.1f%%', startangle=90)\n",
    "# plt.title('Decision Distribution')\n",
    "plt.axis('equal')  # Equal aspect ratio ensures the pie is circular.\n",
    "\n",
    "plt.show()\n"
   ]
  },
  {
   "cell_type": "code",
   "execution_count": null,
   "id": "9316c48c",
   "metadata": {
    "ExecuteTime": {
     "start_time": "2025-05-21T20:53:44.492032800Z"
    }
   },
   "outputs": [],
   "source": [
    "df[df.answer_raw=='No']['scenario_id']"
   ]
  },
  {
   "cell_type": "code",
   "execution_count": null,
   "id": "2a9ed8c9",
   "metadata": {
    "ExecuteTime": {
     "start_time": "2025-05-21T20:53:44.492032800Z"
    }
   },
   "outputs": [],
   "source": [
    "df[df.answer_raw=='No']['question_text'].values"
   ]
  },
  {
   "cell_type": "code",
   "execution_count": null,
   "id": "b6f81656",
   "metadata": {
    "ExecuteTime": {
     "start_time": "2025-05-21T20:53:44.502573Z"
    }
   },
   "outputs": [],
   "source": [
    "df[df.decision=='invalid'].head()"
   ]
  },
  {
   "cell_type": "code",
   "execution_count": null,
   "id": "39671f07",
   "metadata": {
    "ExecuteTime": {
     "start_time": "2025-05-21T20:53:44.502573Z"
    }
   },
   "outputs": [],
   "source": [
    "df.loc[(df['question_ordering'] == 1) & (df['answer'] == 'A'), 'answer'] = 'B'\n",
    "df.loc[(df['question_ordering'] == 1) & (df['answer'] == 'B'), 'answer'] = 'A'"
   ]
  },
  {
   "cell_type": "code",
   "execution_count": null,
   "id": "81d9d308",
   "metadata": {
    "ExecuteTime": {
     "start_time": "2025-05-21T20:53:44.506505900Z"
    }
   },
   "outputs": [],
   "source": [
    "df[df['scenario_id'].str.startswith(\"H_020\")].scenario_id.value_counts()"
   ]
  },
  {
   "cell_type": "code",
   "execution_count": null,
   "id": "b44a12df",
   "metadata": {
    "ExecuteTime": {
     "start_time": "2025-05-21T20:53:44.508015200Z"
    }
   },
   "outputs": [],
   "source": [
    "import matplotlib.pyplot as plt\n",
    "import matplotlib.cm as cm\n",
    "import numpy as np\n",
    "\n",
    "subset = df[df['scenario_id'].str.startswith(\"C_020\")] #(df['decision'] != 'invalid')\n",
    "grouped = subset.groupby('scenario_id')\n",
    "\n",
    "n = len(grouped)\n",
    "fig, axes = plt.subplots(nrows=n, figsize=(6, 4 * n))\n",
    "\n",
    "if n == 1:\n",
    "    axes = [axes]\n",
    "\n",
    "for ax, (scenario_id, group) in zip(axes, grouped):\n",
    "    counts = group['decision'].value_counts()\n",
    "    counts = counts.sort_index() \n",
    "\n",
    "    colors = cm.viridis(np.linspace(0, 1, len(counts)))\n",
    "\n",
    "    counts.plot(kind='bar', ax=ax, color=colors)\n",
    "    ax.set_title(f'Answer distribution for {scenario_id}')\n",
    "    ax.set_xlabel('Answer')\n",
    "    ax.set_ylabel('Count')\n",
    "    ax.set_ylim(0, 40)\n",
    "\n",
    "    ax.spines['top'].set_visible(False)\n",
    "    ax.spines['right'].set_visible(False)\n",
    "\n",
    "plt.tight_layout()\n",
    "plt.show()\n"
   ]
  },
  {
   "cell_type": "code",
   "execution_count": null,
   "id": "58167a00",
   "metadata": {
    "ExecuteTime": {
     "start_time": "2025-05-21T20:53:44.510183600Z"
    }
   },
   "outputs": [],
   "source": [
    "subset.answer_raw.value_counts()"
   ]
  },
  {
   "cell_type": "code",
   "execution_count": null,
   "id": "003dd75f",
   "metadata": {
    "ExecuteTime": {
     "start_time": "2025-05-21T20:53:44.510183600Z"
    }
   },
   "outputs": [],
   "source": [
    "subset.head(2).question_text.values"
   ]
  },
  {
   "cell_type": "code",
   "execution_count": null,
   "id": "ec53c113",
   "metadata": {
    "ExecuteTime": {
     "start_time": "2025-05-21T20:53:44.510183600Z"
    }
   },
   "outputs": [],
   "source": [
    "subset.head(1).answer_raw"
   ]
  },
  {
   "cell_type": "code",
   "execution_count": null,
   "id": "3de56b74",
   "metadata": {
    "ExecuteTime": {
     "start_time": "2025-05-21T20:53:44.510183600Z"
    }
   },
   "outputs": [],
   "source": [
    "subset.head(1).decision"
   ]
  },
  {
   "cell_type": "code",
   "execution_count": null,
   "id": "78bce563",
   "metadata": {
    "ExecuteTime": {
     "start_time": "2025-05-21T20:53:44.510183600Z"
    }
   },
   "outputs": [],
   "source": [
    "import matplotlib.pyplot as plt\n",
    "import matplotlib.cm as cm\n",
    "import numpy as np\n",
    "\n",
    "# Filter data\n",
    "subset = df[df['scenario_id'].str.startswith(\"C_010\")]\n",
    "\n",
    "# Create pivot table: rows = scenario_ids, columns = decisions, values = counts\n",
    "pivot = subset.pivot_table(index='scenario_id', columns='decision', aggfunc='size', fill_value=0)\n",
    "\n",
    "# Define desired decision order\n",
    "desired_order = ['action1', 'invalid', 'action2']\n",
    "existing_decisions = [d for d in desired_order if d in pivot.columns]\n",
    "\n",
    "# Reorder pivot table columns\n",
    "pivot = pivot[existing_decisions]\n",
    "\n",
    "# Assign colors based on order\n",
    "colors = cm.viridis(np.linspace(0, 1, len(pivot.columns)))\n",
    "\n",
    "# Plot\n",
    "fig, ax = plt.subplots(figsize=(8, 6))\n",
    "bottom = np.zeros(len(pivot))\n",
    "\n",
    "# Stacked bars\n",
    "for idx, decision in enumerate(pivot.columns):\n",
    "    ax.bar(pivot.index, pivot[decision], bottom=bottom, label=decision, color=colors[idx])\n",
    "    bottom += pivot[decision].values\n",
    "\n",
    "# Format plot\n",
    "ax.set_title('Decision Distribution for Low Ambiguity Scenario: C_010')\n",
    "ax.set_ylabel('Count')\n",
    "ax.set_xlabel('Scenario ID')\n",
    "ax.legend(title='Decision')\n",
    "ax.spines['top'].set_visible(False)\n",
    "ax.spines['right'].set_visible(False)\n",
    "plt.xticks(rotation=45)\n",
    "\n",
    "plt.tight_layout()\n",
    "plt.show()\n"
   ]
  },
  {
   "cell_type": "code",
   "execution_count": null,
   "id": "8a11bf0e",
   "metadata": {
    "ExecuteTime": {
     "start_time": "2025-05-21T20:53:44.517460700Z"
    }
   },
   "outputs": [],
   "source": [
    "import matplotlib.pyplot as plt\n",
    "import matplotlib.cm as cm\n",
    "import numpy as np\n",
    "\n",
    "subset = df[df['scenario_id'].str.startswith(\"C_051\") & (df['decision'] != 'invalid')]\n",
    "grouped = subset.groupby('scenario_id')\n",
    "\n",
    "n = len(grouped)\n",
    "fig, axes = plt.subplots(nrows=n, figsize=(6, 4 * n))\n",
    "\n",
    "if n == 1:\n",
    "    axes = [axes]\n",
    "\n",
    "for ax, (scenario_id, group) in zip(axes, grouped):\n",
    "    counts = group['answer'].value_counts()\n",
    "    counts = counts.sort_index() \n",
    "\n",
    "    colors = cm.viridis(np.linspace(0, 1, len(counts)))\n",
    "\n",
    "    counts.plot(kind='bar', ax=ax, color=colors)\n",
    "    ax.set_title(f'Answer distribution for {scenario_id}')\n",
    "    ax.set_xlabel('Answer')\n",
    "    ax.set_ylabel('Count')\n",
    "    ax.set_ylim(0, 40)\n",
    "\n",
    "    ax.spines['top'].set_visible(False)\n",
    "    ax.spines['right'].set_visible(False)\n",
    "\n",
    "plt.tight_layout()\n",
    "plt.show()\n"
   ]
  },
  {
   "cell_type": "markdown",
   "id": "120d1333",
   "metadata": {},
   "source": [
    "# High"
   ]
  },
  {
   "cell_type": "code",
   "execution_count": null,
   "id": "ba553357",
   "metadata": {
    "ExecuteTime": {
     "start_time": "2025-05-21T20:53:44.517460700Z"
    }
   },
   "outputs": [],
   "source": [
    "import matplotlib.pyplot as plt\n",
    "import matplotlib.cm as cm\n",
    "import numpy as np\n",
    "\n",
    "subset = df[df['scenario_id'].str.startswith(\"H_019\") & (df['decision'] != 'invalid')]\n",
    "grouped = subset.groupby('scenario_id')\n",
    "\n",
    "n = len(grouped)\n",
    "fig, axes = plt.subplots(nrows=n, figsize=(6, 4 * n))\n",
    "\n",
    "if n == 1:\n",
    "    axes = [axes]\n",
    "\n",
    "for ax, (scenario_id, group) in zip(axes, grouped):\n",
    "    counts = group['answer'].value_counts()\n",
    "    counts = counts.sort_index() \n",
    "\n",
    "    colors = cm.viridis(np.linspace(0, 1, len(counts)))\n",
    "\n",
    "    counts.plot(kind='bar', ax=ax, color=colors)\n",
    "    ax.set_title(f'Answer distribution for {scenario_id}')\n",
    "    ax.set_xlabel('Answer')\n",
    "    ax.set_ylabel('Count')\n",
    "    ax.set_ylim(0, 20)\n",
    "\n",
    "    ax.spines['top'].set_visible(False)\n",
    "    ax.spines['right'].set_visible(False)\n",
    "\n",
    "plt.tight_layout()\n",
    "plt.show()\n"
   ]
  },
  {
   "cell_type": "code",
   "execution_count": null,
   "id": "aa13f0f2",
   "metadata": {
    "ExecuteTime": {
     "start_time": "2025-05-21T20:53:44.520507700Z"
    }
   },
   "outputs": [],
   "source": [
    "df[df['scenario_id']==\"H_002\"].question_text.values[0]"
   ]
  },
  {
   "cell_type": "code",
   "execution_count": null,
   "id": "655308e6",
   "metadata": {
    "ExecuteTime": {
     "start_time": "2025-05-21T20:53:44.523813600Z"
    }
   },
   "outputs": [],
   "source": [
    "subset = df[df['scenario_id'].str.startswith(\"H_002\") & (df['decision'] != 'invalid')]\n",
    "grouped = subset.groupby('scenario_id')\n",
    "\n",
    "n = len(grouped)\n",
    "fig, axes = plt.subplots(nrows=n, figsize=(6, 4 * n))\n",
    "\n",
    "if n == 1:\n",
    "    axes = [axes]\n",
    "\n",
    "for ax, (scenario_id, group) in zip(axes, grouped):\n",
    "    counts = group['answer'].value_counts()\n",
    "    counts = counts.sort_index() \n",
    "\n",
    "    colors = cm.viridis(np.linspace(0, 1, len(counts)))\n",
    "\n",
    "    counts.plot(kind='bar', ax=ax, color=colors)\n",
    "    ax.set_title(f'Answer distribution for {scenario_id}')\n",
    "    ax.set_xlabel('Answer')\n",
    "    ax.set_ylabel('Count')\n",
    "    ax.set_ylim(0, 20)\n",
    "\n",
    "    ax.spines['top'].set_visible(False)\n",
    "    ax.spines['right'].set_visible(False)\n",
    "\n",
    "plt.tight_layout()\n",
    "plt.show()"
   ]
  },
  {
   "cell_type": "code",
   "execution_count": null,
   "id": "c9f444f9",
   "metadata": {
    "ExecuteTime": {
     "start_time": "2025-05-21T20:53:44.525000100Z"
    }
   },
   "outputs": [],
   "source": [
    "df[df['scenario_id']==\"H_067\"].question_text.values[0]"
   ]
  },
  {
   "cell_type": "code",
   "execution_count": null,
   "id": "4810a62d",
   "metadata": {
    "ExecuteTime": {
     "start_time": "2025-05-21T20:53:44.525000100Z"
    }
   },
   "outputs": [],
   "source": [
    "df.columns"
   ]
  },
  {
   "cell_type": "code",
   "execution_count": null,
   "id": "7aa9b658",
   "metadata": {
    "ExecuteTime": {
     "start_time": "2025-05-21T20:53:44.525000100Z"
    }
   },
   "outputs": [],
   "source": [
    "df[df['scenario_id']==\"H_067_stop\"].head(1).question_text.values"
   ]
  },
  {
   "cell_type": "code",
   "execution_count": null,
   "id": "55466b95",
   "metadata": {
    "ExecuteTime": {
     "start_time": "2025-05-21T20:53:44.533114500Z"
    }
   },
   "outputs": [],
   "source": [
    "subset = df[df['scenario_id'].str.startswith(\"H_067\") & (df['decision'] != 'invalid')]\n",
    "grouped = subset.groupby('scenario_id')\n",
    "\n",
    "n = len(grouped)\n",
    "fig, axes = plt.subplots(nrows=n, figsize=(6, 4 * n))\n",
    "\n",
    "if n == 1:\n",
    "    axes = [axes]\n",
    "\n",
    "for ax, (scenario_id, group) in zip(axes, grouped):\n",
    "    counts = group['answer'].value_counts()\n",
    "    counts = counts.sort_index() \n",
    "\n",
    "    colors = cm.viridis(np.linspace(0, 1, len(counts)))\n",
    "\n",
    "    counts.plot(kind='bar', ax=ax, color=colors)\n",
    "    ax.set_title(f'Answer distribution for {scenario_id}')\n",
    "    ax.set_xlabel('Answer')\n",
    "    ax.set_ylabel('Count')\n",
    "    ax.set_ylim(0, 20)\n",
    "\n",
    "    ax.spines['top'].set_visible(False)\n",
    "    ax.spines['right'].set_visible(False)\n",
    "\n",
    "plt.tight_layout()\n",
    "plt.show()"
   ]
  },
  {
   "cell_type": "code",
   "execution_count": null,
   "id": "dc711e8c",
   "metadata": {
    "ExecuteTime": {
     "start_time": "2025-05-21T20:53:44.533114500Z"
    }
   },
   "outputs": [],
   "source": [
    "df[df['scenario_id']==\"H_063\"].question_text.values[0]"
   ]
  },
  {
   "cell_type": "code",
   "execution_count": null,
   "id": "7e6a1965",
   "metadata": {
    "ExecuteTime": {
     "start_time": "2025-05-21T20:53:44.538846600Z"
    }
   },
   "outputs": [],
   "source": [
    "subset = df[df['scenario_id'].str.startswith(\"H_030\") & (df['decision'] != 'invalid')]\n",
    "grouped = subset.groupby('scenario_id')\n",
    "\n",
    "n = len(grouped)\n",
    "fig, axes = plt.subplots(nrows=n, figsize=(6, 4 * n))\n",
    "\n",
    "if n == 1:\n",
    "    axes = [axes]\n",
    "\n",
    "for ax, (scenario_id, group) in zip(axes, grouped):\n",
    "    counts = group['answer'].value_counts()\n",
    "    counts = counts.sort_index() \n",
    "\n",
    "    colors = cm.viridis(np.linspace(0, 1, len(counts)))\n",
    "\n",
    "    counts.plot(kind='bar', ax=ax, color=colors)\n",
    "    ax.set_title(f'Answer distribution for {scenario_id}')\n",
    "    ax.set_xlabel('Answer')\n",
    "    ax.set_ylabel('Count')\n",
    "    ax.set_ylim(0, 20)\n",
    "\n",
    "    ax.spines['top'].set_visible(False)\n",
    "    ax.spines['right'].set_visible(False)\n",
    "\n",
    "plt.tight_layout()\n",
    "plt.show()"
   ]
  },
  {
   "cell_type": "code",
   "execution_count": null,
   "id": "3ba7f295",
   "metadata": {
    "ExecuteTime": {
     "start_time": "2025-05-21T20:53:44.539856100Z"
    }
   },
   "outputs": [],
   "source": [
    "import pandas as pd\n",
    "\n",
    "df['base_id'] = df['scenario_id'].str.replace(r'_pos$|_neg$|_stop$', '', regex=True)\n",
    "\n",
    "df['type'] = df['scenario_id'].apply(\n",
    "    lambda x: 'pos' if x.endswith('_pos') else \n",
    "              ('neg' if x.endswith('_neg') else \n",
    "               ('stop' if x.endswith('_stop') else 'neutral'))\n",
    ")"
   ]
  },
  {
   "cell_type": "code",
   "execution_count": null,
   "id": "10095022",
   "metadata": {
    "ExecuteTime": {
     "start_time": "2025-05-21T20:53:44.539856100Z"
    }
   },
   "outputs": [],
   "source": [
    "df.type.unique()"
   ]
  },
  {
   "cell_type": "code",
   "execution_count": null,
   "id": "40da61fa",
   "metadata": {
    "ExecuteTime": {
     "start_time": "2025-05-21T20:53:44.539856100Z"
    }
   },
   "outputs": [],
   "source": [
    "import pandas as pd\n",
    "\n",
    "# X = 0.2  \n",
    "\n",
    "proportions = (\n",
    "    df.groupby(['base_id', 'type'])['answer']\n",
    "    .value_counts(normalize=True)\n",
    "    .unstack(fill_value=0)\n",
    "    .reset_index()\n",
    ")\n",
    "\n",
    "merged = proportions.pivot(index='base_id', columns='type', values=['A', 'B'])\n",
    "\n",
    "merged = merged.fillna(0)\n",
    "delta_pos_A = (merged['A']['pos'] - merged['A']['neutral']).abs()\n",
    "delta_neg_A = (merged['A']['neg'] - merged['A']['neutral']).abs()\n",
    "\n",
    "delta_pos_B = (merged['B']['pos'] - merged['B']['neutral']).abs()\n",
    "delta_neg_B = (merged['B']['neg'] - merged['B']['neutral']).abs()\n",
    "\n",
    "mask = (delta_pos_A > X) | (delta_neg_A > X) | (delta_pos_B > X) | (delta_neg_B > X)\n",
    "base_ids_to_keep = merged.index[mask]\n",
    "\n",
    "df_subset = df[df['base_id'].isin(base_ids_to_keep)]\n",
    "len(df_subset)\n"
   ]
  },
  {
   "cell_type": "code",
   "execution_count": null,
   "id": "215f52dd",
   "metadata": {
    "ExecuteTime": {
     "start_time": "2025-05-21T20:53:44.539856100Z"
    }
   },
   "outputs": [],
   "source": [
    "diffs_pos = merged['A']['neutral'] - merged['A']['pos']\n",
    "\n",
    "plt.figure(figsize=(6, 4))\n",
    "plt.hist(np.abs(diffs_pos), bins=20, edgecolor='black')\n",
    "plt.xlabel('Neutral & Positive (A)')\n",
    "plt.ylabel('Count')\n",
    "plt.title('Histogram of Differences for Neutral & Positive')\n",
    "plt.tight_layout()\n",
    "plt.show()\n"
   ]
  },
  {
   "cell_type": "code",
   "execution_count": null,
   "id": "24358fb3",
   "metadata": {
    "ExecuteTime": {
     "start_time": "2025-05-21T20:53:44.539856100Z"
    }
   },
   "outputs": [],
   "source": [
    "diffs_neg = merged['A']['neutral'] - merged['A']['neg']\n",
    "\n",
    "plt.figure(figsize=(6, 4))\n",
    "plt.hist(np.abs(diffs_neg), bins=20, edgecolor='black')\n",
    "plt.xlabel('Neutral & Negative (A)')\n",
    "plt.ylabel('Count')\n",
    "plt.title('Histogram of Differences for Neutral & Negative')\n",
    "plt.tight_layout()\n",
    "plt.show()\n"
   ]
  },
  {
   "cell_type": "code",
   "execution_count": null,
   "id": "144e1bb4",
   "metadata": {
    "ExecuteTime": {
     "start_time": "2025-05-21T20:53:44.539856100Z"
    }
   },
   "outputs": [],
   "source": [
    "diffs_stop = merged['A']['neutral'] - merged['A']['stop']\n",
    "\n",
    "plt.figure(figsize=(6, 4))\n",
    "plt.hist(np.abs(diffs_stop), bins=20, edgecolor='black')\n",
    "plt.xlabel('Neutral & Stop (A)')\n",
    "plt.ylabel('Count')\n",
    "plt.title('Histogram of Differences for Neutral & Stop')\n",
    "plt.tight_layout()\n",
    "plt.show()\n"
   ]
  },
  {
   "cell_type": "code",
   "execution_count": null,
   "id": "d23ff1e9",
   "metadata": {
    "ExecuteTime": {
     "start_time": "2025-05-21T20:53:44.539856100Z"
    }
   },
   "outputs": [],
   "source": [
    "from scipy import stats\n",
    "\n",
    "\n",
    "t_stat, p_value = stats.ttest_ind(diffs_pos, diffs_stop)\n",
    "\n",
    "print(f\"T-statistic: {t_stat:.3f}\")\n",
    "print(f\"P-value: {p_value:.3f}\")"
   ]
  },
  {
   "cell_type": "code",
   "execution_count": null,
   "id": "04f3f9b6",
   "metadata": {
    "ExecuteTime": {
     "start_time": "2025-05-21T20:53:44.539856100Z"
    }
   },
   "outputs": [],
   "source": [
    "t_stat, p_value = stats.ttest_ind(diffs_neg, diffs_stop)\n",
    "\n",
    "print(f\"T-statistic: {t_stat:.3f}\")\n",
    "print(f\"P-value: {p_value:.3f}\")"
   ]
  },
  {
   "cell_type": "code",
   "execution_count": null,
   "id": "97935cb0",
   "metadata": {
    "ExecuteTime": {
     "start_time": "2025-05-21T20:53:44.539856100Z"
    }
   },
   "outputs": [],
   "source": [
    "t_stat, p_value = stats.ttest_ind(diffs_pos, diffs_neg)\n",
    "\n",
    "print(f\"T-statistic: {t_stat:.3f}\")\n",
    "print(f\"P-value: {p_value:.3f}\")"
   ]
  },
  {
   "cell_type": "code",
   "execution_count": null,
   "id": "d6052acd",
   "metadata": {
    "ExecuteTime": {
     "start_time": "2025-05-21T20:53:44.539856100Z"
    }
   },
   "outputs": [],
   "source": [
    "import seaborn as sns\n",
    "\n",
    "diffs = pd.DataFrame({\n",
    "    'pos - neutral (A)': merged['A']['pos'] - merged['A']['neutral'],\n",
    "    'neg - neutral (A)': merged['A']['neg'] - merged['A']['neutral']\n",
    "}).melt(var_name='Condition', value_name='Δ Proportion of A')\n",
    "\n",
    "plt.figure(figsize=(6, 5))\n",
    "sns.violinplot(x='Condition', y='Δ Proportion of A', data=diffs, inner='box', color='coral')\n",
    "plt.axhline(0, linestyle='--', color='gray')\n",
    "plt.title(\"Effect of pos/neg on 'A' responses (vs. neutral)\")\n",
    "plt.tight_layout()\n",
    "plt.show()\n"
   ]
  }
 ],
 "metadata": {
  "kernelspec": {
   "display_name": "base",
   "language": "python",
   "name": "python3"
  },
  "language_info": {
   "codemirror_mode": {
    "name": "ipython",
    "version": 3
   },
   "file_extension": ".py",
   "mimetype": "text/x-python",
   "name": "python",
   "nbconvert_exporter": "python",
   "pygments_lexer": "ipython3",
   "version": "3.12.2"
  }
 },
 "nbformat": 4,
 "nbformat_minor": 5
}
